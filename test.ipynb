{
 "cells": [
  {
   "cell_type": "code",
   "execution_count": 22,
   "metadata": {
    "collapsed": true
   },
   "outputs": [],
   "source": [
    "import pandas as pd\n",
    "import networkx as nx\n",
    "from sodapy import Socrata\n",
    "import math\n",
    "import random\n",
    "import matplotlib.pyplot as plt\n",
    "import numpy as np"
   ]
  },
  {
   "cell_type": "code",
   "execution_count": 9,
   "metadata": {
    "collapsed": true
   },
   "outputs": [],
   "source": [
    "grid_size = 5"
   ]
  },
  {
   "cell_type": "code",
   "execution_count": 10,
   "metadata": {},
   "outputs": [
    {
     "data": {
      "text/plain": [
       "{0: (0, 0),\n",
       " 1: (1, 0),\n",
       " 2: (2, 0),\n",
       " 3: (3, 0),\n",
       " 4: (4, 0),\n",
       " 5: (0, 1),\n",
       " 6: (1, 1),\n",
       " 7: (2, 1),\n",
       " 8: (3, 1),\n",
       " 9: (4, 1),\n",
       " 10: (0, 2),\n",
       " 11: (1, 2),\n",
       " 12: (2, 2),\n",
       " 13: (3, 2),\n",
       " 14: (4, 2),\n",
       " 15: (0, 3),\n",
       " 16: (1, 3),\n",
       " 17: (2, 3),\n",
       " 18: (3, 3),\n",
       " 19: (4, 3),\n",
       " 20: (0, 4),\n",
       " 21: (1, 4),\n",
       " 22: (2, 4),\n",
       " 23: (3, 4),\n",
       " 24: (4, 4)}"
      ]
     },
     "execution_count": 10,
     "metadata": {},
     "output_type": "execute_result"
    }
   ],
   "source": [
    "pos_2d = [(x % grid_size, math.floor(x/grid_size), ) for x in range(grid_size*grid_size)]\n",
    "pos_mapping = dict(zip(range(grid_size*grid_size), pos_2d))\n",
    "pos_mapping"
   ]
  },
  {
   "cell_type": "code",
   "execution_count": 11,
   "metadata": {
    "collapsed": true
   },
   "outputs": [],
   "source": [
    "G = nx.DiGraph(); \n",
    "G.add_edge(1,2, weight=1)\n",
    "G.add_edge(1, 3, weight=1)\n",
    "G.add_edge(3,4)\n",
    "G.add_edge(4,1)\n"
   ]
  },
  {
   "cell_type": "code",
   "execution_count": 21,
   "metadata": {},
   "outputs": [
    {
     "data": {
      "text/plain": [
       "1"
      ]
     },
     "execution_count": 21,
     "metadata": {},
     "output_type": "execute_result"
    }
   ],
   "source": [
    "G.out_degree[4]"
   ]
  },
  {
   "cell_type": "code",
   "execution_count": 12,
   "metadata": {
    "collapsed": true
   },
   "outputs": [],
   "source": [
    "nx.draw(G, pos_mapping)"
   ]
  },
  {
   "cell_type": "code",
   "execution_count": 33,
   "metadata": {
    "collapsed": true
   },
   "outputs": [],
   "source": [
    "def trans (lon, lat):\n",
    "    mapWidth = 1\n",
    "    mapHeight = 1\n",
    "    x = (lon + 180) * (mapWidth/360)\n",
    "    latRad = lat*np.pi/180\n",
    "    mercN = np.log(np.tan((np.pi/4)+(latRad/2)))\n",
    "    y = (mapHeight/2) - (mapWidth*mercN/(2 * np.pi))\n",
    "    return x, y\n",
    "    "
   ]
  },
  {
   "cell_type": "code",
   "execution_count": 34,
   "metadata": {},
   "outputs": [
    {
     "name": "stdout",
     "output_type": "stream",
     "text": [
      "(0.6131178326076931, 0.812341841127592)\n",
      "(0.6131249215867784, 0.8121460812257323)\n"
     ]
    }
   ],
   "source": [
    "lat1 = 40.722419738769531\n",
    "lon1 = -74.003860473632813\n",
    "\n",
    "lat2 = 40.724971771240234\n",
    "lon2 = -73.984428405761719\n",
    "\n",
    "print(trans(lat1, lon1))\n",
    "print(trans(lat2,lon2))"
   ]
  }
 ],
 "metadata": {
  "kernelspec": {
   "display_name": "Python 3",
   "language": "python",
   "name": "python3"
  },
  "language_info": {
   "codemirror_mode": {
    "name": "ipython",
    "version": 3
   },
   "file_extension": ".py",
   "mimetype": "text/x-python",
   "name": "python",
   "nbconvert_exporter": "python",
   "pygments_lexer": "ipython3",
   "version": "3.6.6"
  }
 },
 "nbformat": 4,
 "nbformat_minor": 2
}
