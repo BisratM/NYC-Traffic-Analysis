{
 "cells": [
  {
   "cell_type": "code",
   "execution_count": 2,
   "metadata": {
    "collapsed": true
   },
   "outputs": [],
   "source": [
    "import csv\n",
    "import pandas as pd\n",
    "import networkx as nx\n",
    "import random\n",
    "import math\n",
    "import numpy as np\n",
    "import matplotlib.pyplot as plt\n",
    "from scipy.cluster.vq import kmeans2, whiten\n",
    "from sklearn.cluster import KMeans\n",
    "import geopy\n",
    "import zipcodes\n",
    "from time import sleep\n",
    "from geopy.extra.rate_limiter import RateLimiter\n",
    "# from mpl_toolkits.basemap import Basemap"
   ]
  },
  {
   "cell_type": "code",
   "execution_count": 3,
   "metadata": {
    "collapsed": true
   },
   "outputs": [],
   "source": [
    "# plot pick-up data using k-means clustering\n",
    "def plotKMeans(lat, long, k, iters):\n",
    "    coordinates= np.array(list(zip(lat, long)))\n",
    "    centroids, labels = kmeans2(whiten(coordinates), k, iter = iters)  \n",
    "    plt.scatter(coordinates[:,0], coordinates[:,1], c=labels);\n",
    "    plt.show()\n",
    "    return centroids, labels"
   ]
  },
  {
   "cell_type": "code",
   "execution_count": 4,
   "metadata": {
    "collapsed": true
   },
   "outputs": [],
   "source": [
    "def createDiGraphK(data, sample_size, k=20, iters=20, name='ktemp'):\n",
    "    # cluster data using k-means\n",
    "    lat = data['Lat']\n",
    "    lon = data['Lon']\n",
    "    coordinates= np.array(list(zip(lat, lon)))\n",
    "    print(coordinates)\n",
    "    centroids, labels = kmeans2(whiten(coordinates), k, iter = iters) \n",
    "    # create graph with k nodes\n",
    "    G = nx.DiGraph(); \n",
    "    for pick_up in range(sample_size):\n",
    "        \n",
    "        # get k-means centroid from src and randomize dest based on uniform distribution among all clusters\n",
    "        #rand_idx = random.randint(0, len(labels) - 1)\n",
    "        rand_idx = pick_up\n",
    "        la = lat[pick_up]\n",
    "        lo = lon[pick_up]\n",
    "        src = labels[rand_idx]\n",
    "        dest = random.randint(0, k - 1)\n",
    "        if (dest == src and src != 0):\n",
    "            dest = 0\n",
    "\n",
    "        # increase edge weight from src -->  dest by 1 \n",
    "        if not G.has_node(src):\n",
    "            G.add_node(src, lat=0, lon=0)\n",
    "        if not G.has_node(dest):\n",
    "            G.add_node(dest, lat=0, lon=0)\n",
    "        if not G.has_edge(src, dest):\n",
    "            G.add_edge(src, dest, weight=0)\n",
    "        G[src][dest]['weight'] += 1\n",
    "        G.node[src]['lat'] = (G.node[src]['lat'] +  la) / 2 #keep a running average\n",
    "        G.node[src]['lon'] =  (G.node[src]['lon'] +  lo) / 2\n",
    "        \n",
    "        #print(\"Adding edge from \" + str(src) + \" to \" + str(dest))\n",
    "        if (pick_up > 1000 and pick_up % 1000 == 0):\n",
    "            nx.write_graphml(G, \"graphs/\" + name + \".graphml\")\n",
    "    return G "
   ]
  },
  {
   "cell_type": "code",
   "execution_count": 5,
   "metadata": {},
   "outputs": [
    {
     "data": {
      "text/html": [
       "<div>\n",
       "<style scoped>\n",
       "    .dataframe tbody tr th:only-of-type {\n",
       "        vertical-align: middle;\n",
       "    }\n",
       "\n",
       "    .dataframe tbody tr th {\n",
       "        vertical-align: top;\n",
       "    }\n",
       "\n",
       "    .dataframe thead th {\n",
       "        text-align: right;\n",
       "    }\n",
       "</style>\n",
       "<table border=\"1\" class=\"dataframe\">\n",
       "  <thead>\n",
       "    <tr style=\"text-align: right;\">\n",
       "      <th></th>\n",
       "      <th>Date/Time</th>\n",
       "      <th>Lat</th>\n",
       "      <th>Lon</th>\n",
       "      <th>Base</th>\n",
       "    </tr>\n",
       "  </thead>\n",
       "  <tbody>\n",
       "    <tr>\n",
       "      <th>0</th>\n",
       "      <td>4/1/2014 0:11:00</td>\n",
       "      <td>40.7690</td>\n",
       "      <td>-73.9549</td>\n",
       "      <td>B02512</td>\n",
       "    </tr>\n",
       "    <tr>\n",
       "      <th>1</th>\n",
       "      <td>4/1/2014 0:17:00</td>\n",
       "      <td>40.7267</td>\n",
       "      <td>-74.0345</td>\n",
       "      <td>B02512</td>\n",
       "    </tr>\n",
       "    <tr>\n",
       "      <th>2</th>\n",
       "      <td>4/1/2014 0:21:00</td>\n",
       "      <td>40.7316</td>\n",
       "      <td>-73.9873</td>\n",
       "      <td>B02512</td>\n",
       "    </tr>\n",
       "    <tr>\n",
       "      <th>3</th>\n",
       "      <td>4/1/2014 0:28:00</td>\n",
       "      <td>40.7588</td>\n",
       "      <td>-73.9776</td>\n",
       "      <td>B02512</td>\n",
       "    </tr>\n",
       "    <tr>\n",
       "      <th>4</th>\n",
       "      <td>4/1/2014 0:33:00</td>\n",
       "      <td>40.7594</td>\n",
       "      <td>-73.9722</td>\n",
       "      <td>B02512</td>\n",
       "    </tr>\n",
       "    <tr>\n",
       "      <th>5</th>\n",
       "      <td>4/1/2014 0:33:00</td>\n",
       "      <td>40.7383</td>\n",
       "      <td>-74.0403</td>\n",
       "      <td>B02512</td>\n",
       "    </tr>\n",
       "    <tr>\n",
       "      <th>6</th>\n",
       "      <td>4/1/2014 0:39:00</td>\n",
       "      <td>40.7223</td>\n",
       "      <td>-73.9887</td>\n",
       "      <td>B02512</td>\n",
       "    </tr>\n",
       "    <tr>\n",
       "      <th>7</th>\n",
       "      <td>4/1/2014 0:45:00</td>\n",
       "      <td>40.7620</td>\n",
       "      <td>-73.9790</td>\n",
       "      <td>B02512</td>\n",
       "    </tr>\n",
       "    <tr>\n",
       "      <th>8</th>\n",
       "      <td>4/1/2014 0:55:00</td>\n",
       "      <td>40.7524</td>\n",
       "      <td>-73.9960</td>\n",
       "      <td>B02512</td>\n",
       "    </tr>\n",
       "    <tr>\n",
       "      <th>9</th>\n",
       "      <td>4/1/2014 1:01:00</td>\n",
       "      <td>40.7575</td>\n",
       "      <td>-73.9846</td>\n",
       "      <td>B02512</td>\n",
       "    </tr>\n",
       "    <tr>\n",
       "      <th>10</th>\n",
       "      <td>4/1/2014 1:19:00</td>\n",
       "      <td>40.7256</td>\n",
       "      <td>-73.9869</td>\n",
       "      <td>B02512</td>\n",
       "    </tr>\n",
       "    <tr>\n",
       "      <th>11</th>\n",
       "      <td>4/1/2014 1:48:00</td>\n",
       "      <td>40.7591</td>\n",
       "      <td>-73.9684</td>\n",
       "      <td>B02512</td>\n",
       "    </tr>\n",
       "    <tr>\n",
       "      <th>12</th>\n",
       "      <td>4/1/2014 1:49:00</td>\n",
       "      <td>40.7271</td>\n",
       "      <td>-73.9803</td>\n",
       "      <td>B02512</td>\n",
       "    </tr>\n",
       "    <tr>\n",
       "      <th>13</th>\n",
       "      <td>4/1/2014 2:11:00</td>\n",
       "      <td>40.6463</td>\n",
       "      <td>-73.7896</td>\n",
       "      <td>B02512</td>\n",
       "    </tr>\n",
       "    <tr>\n",
       "      <th>14</th>\n",
       "      <td>4/1/2014 2:25:00</td>\n",
       "      <td>40.7564</td>\n",
       "      <td>-73.9167</td>\n",
       "      <td>B02512</td>\n",
       "    </tr>\n",
       "    <tr>\n",
       "      <th>15</th>\n",
       "      <td>4/1/2014 2:31:00</td>\n",
       "      <td>40.7666</td>\n",
       "      <td>-73.9531</td>\n",
       "      <td>B02512</td>\n",
       "    </tr>\n",
       "    <tr>\n",
       "      <th>16</th>\n",
       "      <td>4/1/2014 2:43:00</td>\n",
       "      <td>40.7580</td>\n",
       "      <td>-73.9761</td>\n",
       "      <td>B02512</td>\n",
       "    </tr>\n",
       "    <tr>\n",
       "      <th>17</th>\n",
       "      <td>4/1/2014 3:22:00</td>\n",
       "      <td>40.7238</td>\n",
       "      <td>-73.9821</td>\n",
       "      <td>B02512</td>\n",
       "    </tr>\n",
       "    <tr>\n",
       "      <th>18</th>\n",
       "      <td>4/1/2014 3:35:00</td>\n",
       "      <td>40.7531</td>\n",
       "      <td>-74.0039</td>\n",
       "      <td>B02512</td>\n",
       "    </tr>\n",
       "    <tr>\n",
       "      <th>19</th>\n",
       "      <td>4/1/2014 3:35:00</td>\n",
       "      <td>40.7389</td>\n",
       "      <td>-74.0393</td>\n",
       "      <td>B02512</td>\n",
       "    </tr>\n",
       "    <tr>\n",
       "      <th>20</th>\n",
       "      <td>4/1/2014 3:41:00</td>\n",
       "      <td>40.7619</td>\n",
       "      <td>-73.9715</td>\n",
       "      <td>B02512</td>\n",
       "    </tr>\n",
       "    <tr>\n",
       "      <th>21</th>\n",
       "      <td>4/1/2014 4:11:00</td>\n",
       "      <td>40.7530</td>\n",
       "      <td>-74.0042</td>\n",
       "      <td>B02512</td>\n",
       "    </tr>\n",
       "    <tr>\n",
       "      <th>22</th>\n",
       "      <td>4/1/2014 4:15:00</td>\n",
       "      <td>40.6561</td>\n",
       "      <td>-73.9531</td>\n",
       "      <td>B02512</td>\n",
       "    </tr>\n",
       "    <tr>\n",
       "      <th>23</th>\n",
       "      <td>4/1/2014 4:19:00</td>\n",
       "      <td>40.7250</td>\n",
       "      <td>-73.9844</td>\n",
       "      <td>B02512</td>\n",
       "    </tr>\n",
       "    <tr>\n",
       "      <th>24</th>\n",
       "      <td>4/1/2014 4:20:00</td>\n",
       "      <td>40.6950</td>\n",
       "      <td>-74.1783</td>\n",
       "      <td>B02512</td>\n",
       "    </tr>\n",
       "    <tr>\n",
       "      <th>25</th>\n",
       "      <td>4/1/2014 4:26:00</td>\n",
       "      <td>40.9859</td>\n",
       "      <td>-74.1578</td>\n",
       "      <td>B02512</td>\n",
       "    </tr>\n",
       "    <tr>\n",
       "      <th>26</th>\n",
       "      <td>4/1/2014 4:27:00</td>\n",
       "      <td>40.6879</td>\n",
       "      <td>-74.1814</td>\n",
       "      <td>B02512</td>\n",
       "    </tr>\n",
       "    <tr>\n",
       "      <th>27</th>\n",
       "      <td>4/1/2014 4:38:00</td>\n",
       "      <td>40.6878</td>\n",
       "      <td>-74.1816</td>\n",
       "      <td>B02512</td>\n",
       "    </tr>\n",
       "    <tr>\n",
       "      <th>28</th>\n",
       "      <td>4/1/2014 4:47:00</td>\n",
       "      <td>40.7234</td>\n",
       "      <td>-73.9974</td>\n",
       "      <td>B02512</td>\n",
       "    </tr>\n",
       "    <tr>\n",
       "      <th>29</th>\n",
       "      <td>4/1/2014 4:49:00</td>\n",
       "      <td>40.7336</td>\n",
       "      <td>-73.9900</td>\n",
       "      <td>B02512</td>\n",
       "    </tr>\n",
       "    <tr>\n",
       "      <th>...</th>\n",
       "      <td>...</td>\n",
       "      <td>...</td>\n",
       "      <td>...</td>\n",
       "      <td>...</td>\n",
       "    </tr>\n",
       "    <tr>\n",
       "      <th>564486</th>\n",
       "      <td>4/30/2014 22:25:00</td>\n",
       "      <td>40.7342</td>\n",
       "      <td>-74.0101</td>\n",
       "      <td>B02764</td>\n",
       "    </tr>\n",
       "    <tr>\n",
       "      <th>564487</th>\n",
       "      <td>4/30/2014 22:25:00</td>\n",
       "      <td>40.7412</td>\n",
       "      <td>-73.9792</td>\n",
       "      <td>B02764</td>\n",
       "    </tr>\n",
       "    <tr>\n",
       "      <th>564488</th>\n",
       "      <td>4/30/2014 22:25:00</td>\n",
       "      <td>40.7633</td>\n",
       "      <td>-73.9867</td>\n",
       "      <td>B02764</td>\n",
       "    </tr>\n",
       "    <tr>\n",
       "      <th>564489</th>\n",
       "      <td>4/30/2014 22:26:00</td>\n",
       "      <td>40.7549</td>\n",
       "      <td>-73.9845</td>\n",
       "      <td>B02764</td>\n",
       "    </tr>\n",
       "    <tr>\n",
       "      <th>564490</th>\n",
       "      <td>4/30/2014 22:27:00</td>\n",
       "      <td>40.7210</td>\n",
       "      <td>-73.9850</td>\n",
       "      <td>B02764</td>\n",
       "    </tr>\n",
       "    <tr>\n",
       "      <th>564491</th>\n",
       "      <td>4/30/2014 22:27:00</td>\n",
       "      <td>40.7025</td>\n",
       "      <td>-74.0127</td>\n",
       "      <td>B02764</td>\n",
       "    </tr>\n",
       "    <tr>\n",
       "      <th>564492</th>\n",
       "      <td>4/30/2014 22:28:00</td>\n",
       "      <td>40.7568</td>\n",
       "      <td>-73.9848</td>\n",
       "      <td>B02764</td>\n",
       "    </tr>\n",
       "    <tr>\n",
       "      <th>564493</th>\n",
       "      <td>4/30/2014 22:29:00</td>\n",
       "      <td>40.7446</td>\n",
       "      <td>-73.9837</td>\n",
       "      <td>B02764</td>\n",
       "    </tr>\n",
       "    <tr>\n",
       "      <th>564494</th>\n",
       "      <td>4/30/2014 22:32:00</td>\n",
       "      <td>40.7013</td>\n",
       "      <td>-73.9367</td>\n",
       "      <td>B02764</td>\n",
       "    </tr>\n",
       "    <tr>\n",
       "      <th>564495</th>\n",
       "      <td>4/30/2014 22:35:00</td>\n",
       "      <td>40.7213</td>\n",
       "      <td>-73.9948</td>\n",
       "      <td>B02764</td>\n",
       "    </tr>\n",
       "    <tr>\n",
       "      <th>564496</th>\n",
       "      <td>4/30/2014 22:36:00</td>\n",
       "      <td>40.7587</td>\n",
       "      <td>-73.9723</td>\n",
       "      <td>B02764</td>\n",
       "    </tr>\n",
       "    <tr>\n",
       "      <th>564497</th>\n",
       "      <td>4/30/2014 22:42:00</td>\n",
       "      <td>40.7325</td>\n",
       "      <td>-73.9969</td>\n",
       "      <td>B02764</td>\n",
       "    </tr>\n",
       "    <tr>\n",
       "      <th>564498</th>\n",
       "      <td>4/30/2014 22:46:00</td>\n",
       "      <td>40.8152</td>\n",
       "      <td>-73.9433</td>\n",
       "      <td>B02764</td>\n",
       "    </tr>\n",
       "    <tr>\n",
       "      <th>564499</th>\n",
       "      <td>4/30/2014 22:47:00</td>\n",
       "      <td>40.7643</td>\n",
       "      <td>-73.9868</td>\n",
       "      <td>B02764</td>\n",
       "    </tr>\n",
       "    <tr>\n",
       "      <th>564500</th>\n",
       "      <td>4/30/2014 22:50:00</td>\n",
       "      <td>40.7650</td>\n",
       "      <td>-73.9773</td>\n",
       "      <td>B02764</td>\n",
       "    </tr>\n",
       "    <tr>\n",
       "      <th>564501</th>\n",
       "      <td>4/30/2014 22:51:00</td>\n",
       "      <td>40.7436</td>\n",
       "      <td>-73.9848</td>\n",
       "      <td>B02764</td>\n",
       "    </tr>\n",
       "    <tr>\n",
       "      <th>564502</th>\n",
       "      <td>4/30/2014 22:56:00</td>\n",
       "      <td>40.7313</td>\n",
       "      <td>-73.9940</td>\n",
       "      <td>B02764</td>\n",
       "    </tr>\n",
       "    <tr>\n",
       "      <th>564503</th>\n",
       "      <td>4/30/2014 22:57:00</td>\n",
       "      <td>40.8007</td>\n",
       "      <td>-73.9565</td>\n",
       "      <td>B02764</td>\n",
       "    </tr>\n",
       "    <tr>\n",
       "      <th>564504</th>\n",
       "      <td>4/30/2014 22:58:00</td>\n",
       "      <td>40.7603</td>\n",
       "      <td>-73.9870</td>\n",
       "      <td>B02764</td>\n",
       "    </tr>\n",
       "    <tr>\n",
       "      <th>564505</th>\n",
       "      <td>4/30/2014 22:58:00</td>\n",
       "      <td>40.7419</td>\n",
       "      <td>-73.9866</td>\n",
       "      <td>B02764</td>\n",
       "    </tr>\n",
       "    <tr>\n",
       "      <th>564506</th>\n",
       "      <td>4/30/2014 23:00:00</td>\n",
       "      <td>40.7316</td>\n",
       "      <td>-73.9891</td>\n",
       "      <td>B02764</td>\n",
       "    </tr>\n",
       "    <tr>\n",
       "      <th>564507</th>\n",
       "      <td>4/30/2014 23:04:00</td>\n",
       "      <td>40.7267</td>\n",
       "      <td>-73.9937</td>\n",
       "      <td>B02764</td>\n",
       "    </tr>\n",
       "    <tr>\n",
       "      <th>564508</th>\n",
       "      <td>4/30/2014 23:05:00</td>\n",
       "      <td>40.7788</td>\n",
       "      <td>-73.9600</td>\n",
       "      <td>B02764</td>\n",
       "    </tr>\n",
       "    <tr>\n",
       "      <th>564509</th>\n",
       "      <td>4/30/2014 23:15:00</td>\n",
       "      <td>40.7420</td>\n",
       "      <td>-74.0037</td>\n",
       "      <td>B02764</td>\n",
       "    </tr>\n",
       "    <tr>\n",
       "      <th>564510</th>\n",
       "      <td>4/30/2014 23:18:00</td>\n",
       "      <td>40.7514</td>\n",
       "      <td>-74.0066</td>\n",
       "      <td>B02764</td>\n",
       "    </tr>\n",
       "    <tr>\n",
       "      <th>564511</th>\n",
       "      <td>4/30/2014 23:22:00</td>\n",
       "      <td>40.7640</td>\n",
       "      <td>-73.9744</td>\n",
       "      <td>B02764</td>\n",
       "    </tr>\n",
       "    <tr>\n",
       "      <th>564512</th>\n",
       "      <td>4/30/2014 23:26:00</td>\n",
       "      <td>40.7629</td>\n",
       "      <td>-73.9672</td>\n",
       "      <td>B02764</td>\n",
       "    </tr>\n",
       "    <tr>\n",
       "      <th>564513</th>\n",
       "      <td>4/30/2014 23:31:00</td>\n",
       "      <td>40.7443</td>\n",
       "      <td>-73.9889</td>\n",
       "      <td>B02764</td>\n",
       "    </tr>\n",
       "    <tr>\n",
       "      <th>564514</th>\n",
       "      <td>4/30/2014 23:32:00</td>\n",
       "      <td>40.6756</td>\n",
       "      <td>-73.9405</td>\n",
       "      <td>B02764</td>\n",
       "    </tr>\n",
       "    <tr>\n",
       "      <th>564515</th>\n",
       "      <td>4/30/2014 23:48:00</td>\n",
       "      <td>40.6880</td>\n",
       "      <td>-73.9608</td>\n",
       "      <td>B02764</td>\n",
       "    </tr>\n",
       "  </tbody>\n",
       "</table>\n",
       "<p>564516 rows × 4 columns</p>\n",
       "</div>"
      ],
      "text/plain": [
       "                 Date/Time      Lat      Lon    Base\n",
       "0         4/1/2014 0:11:00  40.7690 -73.9549  B02512\n",
       "1         4/1/2014 0:17:00  40.7267 -74.0345  B02512\n",
       "2         4/1/2014 0:21:00  40.7316 -73.9873  B02512\n",
       "3         4/1/2014 0:28:00  40.7588 -73.9776  B02512\n",
       "4         4/1/2014 0:33:00  40.7594 -73.9722  B02512\n",
       "5         4/1/2014 0:33:00  40.7383 -74.0403  B02512\n",
       "6         4/1/2014 0:39:00  40.7223 -73.9887  B02512\n",
       "7         4/1/2014 0:45:00  40.7620 -73.9790  B02512\n",
       "8         4/1/2014 0:55:00  40.7524 -73.9960  B02512\n",
       "9         4/1/2014 1:01:00  40.7575 -73.9846  B02512\n",
       "10        4/1/2014 1:19:00  40.7256 -73.9869  B02512\n",
       "11        4/1/2014 1:48:00  40.7591 -73.9684  B02512\n",
       "12        4/1/2014 1:49:00  40.7271 -73.9803  B02512\n",
       "13        4/1/2014 2:11:00  40.6463 -73.7896  B02512\n",
       "14        4/1/2014 2:25:00  40.7564 -73.9167  B02512\n",
       "15        4/1/2014 2:31:00  40.7666 -73.9531  B02512\n",
       "16        4/1/2014 2:43:00  40.7580 -73.9761  B02512\n",
       "17        4/1/2014 3:22:00  40.7238 -73.9821  B02512\n",
       "18        4/1/2014 3:35:00  40.7531 -74.0039  B02512\n",
       "19        4/1/2014 3:35:00  40.7389 -74.0393  B02512\n",
       "20        4/1/2014 3:41:00  40.7619 -73.9715  B02512\n",
       "21        4/1/2014 4:11:00  40.7530 -74.0042  B02512\n",
       "22        4/1/2014 4:15:00  40.6561 -73.9531  B02512\n",
       "23        4/1/2014 4:19:00  40.7250 -73.9844  B02512\n",
       "24        4/1/2014 4:20:00  40.6950 -74.1783  B02512\n",
       "25        4/1/2014 4:26:00  40.9859 -74.1578  B02512\n",
       "26        4/1/2014 4:27:00  40.6879 -74.1814  B02512\n",
       "27        4/1/2014 4:38:00  40.6878 -74.1816  B02512\n",
       "28        4/1/2014 4:47:00  40.7234 -73.9974  B02512\n",
       "29        4/1/2014 4:49:00  40.7336 -73.9900  B02512\n",
       "...                    ...      ...      ...     ...\n",
       "564486  4/30/2014 22:25:00  40.7342 -74.0101  B02764\n",
       "564487  4/30/2014 22:25:00  40.7412 -73.9792  B02764\n",
       "564488  4/30/2014 22:25:00  40.7633 -73.9867  B02764\n",
       "564489  4/30/2014 22:26:00  40.7549 -73.9845  B02764\n",
       "564490  4/30/2014 22:27:00  40.7210 -73.9850  B02764\n",
       "564491  4/30/2014 22:27:00  40.7025 -74.0127  B02764\n",
       "564492  4/30/2014 22:28:00  40.7568 -73.9848  B02764\n",
       "564493  4/30/2014 22:29:00  40.7446 -73.9837  B02764\n",
       "564494  4/30/2014 22:32:00  40.7013 -73.9367  B02764\n",
       "564495  4/30/2014 22:35:00  40.7213 -73.9948  B02764\n",
       "564496  4/30/2014 22:36:00  40.7587 -73.9723  B02764\n",
       "564497  4/30/2014 22:42:00  40.7325 -73.9969  B02764\n",
       "564498  4/30/2014 22:46:00  40.8152 -73.9433  B02764\n",
       "564499  4/30/2014 22:47:00  40.7643 -73.9868  B02764\n",
       "564500  4/30/2014 22:50:00  40.7650 -73.9773  B02764\n",
       "564501  4/30/2014 22:51:00  40.7436 -73.9848  B02764\n",
       "564502  4/30/2014 22:56:00  40.7313 -73.9940  B02764\n",
       "564503  4/30/2014 22:57:00  40.8007 -73.9565  B02764\n",
       "564504  4/30/2014 22:58:00  40.7603 -73.9870  B02764\n",
       "564505  4/30/2014 22:58:00  40.7419 -73.9866  B02764\n",
       "564506  4/30/2014 23:00:00  40.7316 -73.9891  B02764\n",
       "564507  4/30/2014 23:04:00  40.7267 -73.9937  B02764\n",
       "564508  4/30/2014 23:05:00  40.7788 -73.9600  B02764\n",
       "564509  4/30/2014 23:15:00  40.7420 -74.0037  B02764\n",
       "564510  4/30/2014 23:18:00  40.7514 -74.0066  B02764\n",
       "564511  4/30/2014 23:22:00  40.7640 -73.9744  B02764\n",
       "564512  4/30/2014 23:26:00  40.7629 -73.9672  B02764\n",
       "564513  4/30/2014 23:31:00  40.7443 -73.9889  B02764\n",
       "564514  4/30/2014 23:32:00  40.6756 -73.9405  B02764\n",
       "564515  4/30/2014 23:48:00  40.6880 -73.9608  B02764\n",
       "\n",
       "[564516 rows x 4 columns]"
      ]
     },
     "execution_count": 5,
     "metadata": {},
     "output_type": "execute_result"
    }
   ],
   "source": [
    "# path to files\n",
    "path_uber_raw = \"uber-trip-data/uber-raw-data-apr14.csv\"\n",
    "data = pd.read_csv(path_uber_raw)\n",
    "data"
   ]
  },
  {
   "cell_type": "code",
   "execution_count": 6,
   "metadata": {
    "collapsed": true
   },
   "outputs": [],
   "source": [
    "# plot pick-up data using k-means clustering\n",
    "def plotKMeans(lat, long, k, iters):\n",
    "    coordinates= np.array(list(zip(lat, long)))\n",
    "    centroids, labels = kmeans2(whiten(coordinates), k, iter = iters)  \n",
    "    plt.scatter(coordinates[:,0], coordinates[:,1], c=labels);\n",
    "    plt.show()\n",
    "    return centroids, labels"
   ]
  },
  {
   "cell_type": "code",
   "execution_count": 7,
   "metadata": {},
   "outputs": [
    {
     "data": {
      "text/plain": [
       "0         40.7690\n",
       "1         40.7267\n",
       "2         40.7316\n",
       "3         40.7588\n",
       "4         40.7594\n",
       "5         40.7383\n",
       "6         40.7223\n",
       "7         40.7620\n",
       "8         40.7524\n",
       "9         40.7575\n",
       "10        40.7256\n",
       "11        40.7591\n",
       "12        40.7271\n",
       "13        40.6463\n",
       "14        40.7564\n",
       "15        40.7666\n",
       "16        40.7580\n",
       "17        40.7238\n",
       "18        40.7531\n",
       "19        40.7389\n",
       "20        40.7619\n",
       "21        40.7530\n",
       "22        40.6561\n",
       "23        40.7250\n",
       "24        40.6950\n",
       "25        40.9859\n",
       "26        40.6879\n",
       "27        40.6878\n",
       "28        40.7234\n",
       "29        40.7336\n",
       "           ...   \n",
       "564486    40.7342\n",
       "564487    40.7412\n",
       "564488    40.7633\n",
       "564489    40.7549\n",
       "564490    40.7210\n",
       "564491    40.7025\n",
       "564492    40.7568\n",
       "564493    40.7446\n",
       "564494    40.7013\n",
       "564495    40.7213\n",
       "564496    40.7587\n",
       "564497    40.7325\n",
       "564498    40.8152\n",
       "564499    40.7643\n",
       "564500    40.7650\n",
       "564501    40.7436\n",
       "564502    40.7313\n",
       "564503    40.8007\n",
       "564504    40.7603\n",
       "564505    40.7419\n",
       "564506    40.7316\n",
       "564507    40.7267\n",
       "564508    40.7788\n",
       "564509    40.7420\n",
       "564510    40.7514\n",
       "564511    40.7640\n",
       "564512    40.7629\n",
       "564513    40.7443\n",
       "564514    40.6756\n",
       "564515    40.6880\n",
       "Name: Lat, Length: 564516, dtype: float64"
      ]
     },
     "execution_count": 7,
     "metadata": {},
     "output_type": "execute_result"
    }
   ],
   "source": [
    "lat = data['Lat']\n",
    "lon = data['Lon']\n",
    "lat"
   ]
  },
  {
   "cell_type": "code",
   "execution_count": 8,
   "metadata": {
    "collapsed": true
   },
   "outputs": [],
   "source": [
    "def draw_basemap(lat, lon, coords, shapefiles={}):\n",
    "    m = Basemap(projection='merc',llcrnrlat=coords[0],urcrnrlat=coords[1],\\\n",
    "            llcrnrlon=coords[2], urcrnrlon=coords[3], resolution='h')\n",
    "    m.drawcoastlines()\n",
    "    m.drawstates()\n",
    "    m.fillcontinents(color='coral',lake_color='aqua')\n",
    "    for file, name in shapefiles.items():\n",
    "        m.readshapefile(file, name)\n",
    "    x,y = m(lon, lat)\n",
    "    m.plot(x,y, 'bo', markersize=1)\n",
    "    plt.show()\n",
    "    \n",
    "    return m"
   ]
  },
  {
   "cell_type": "code",
   "execution_count": 9,
   "metadata": {},
   "outputs": [
    {
     "name": "stderr",
     "output_type": "stream",
     "text": [
      "/Users/Bisrat/anaconda/lib/python3.6/site-packages/scipy/cluster/vq.py:525: UserWarning: One of the clusters is empty. Re-run kmeans with a different initialization.\n",
      "  warnings.warn(\"One of the clusters is empty. \"\n"
     ]
    },
    {
     "data": {
      "image/png": "[encoded data removed]",
      "text/plain": [
       "<Figure size 432x288 with 1 Axes>"
      ]
     },
     "metadata": {},
     "output_type": "display_data"
    }
   ],
   "source": [
    "c, l = plotKMeans(lat[1000:1100], lon[10000:10090], 20, 20)"
   ]
  },
  {
   "cell_type": "code",
   "execution_count": 10,
   "metadata": {},
   "outputs": [
    {
     "ename": "NameError",
     "evalue": "name 'Basemap' is not defined",
     "output_type": "error",
     "traceback": [
      "\u001b[0;31m---------------------------------------------------------------------------\u001b[0m",
      "\u001b[0;31mNameError\u001b[0m                                 Traceback (most recent call last)",
      "\u001b[0;32m<ipython-input-10-528a56d2f9e4>\u001b[0m in \u001b[0;36m<module>\u001b[0;34m()\u001b[0m\n\u001b[1;32m      5\u001b[0m \u001b[0mshapefiles\u001b[0m \u001b[0;34m=\u001b[0m\u001b[0;34m{\u001b[0m\u001b[0;34m}\u001b[0m\u001b[0;34m\u001b[0m\u001b[0m\n\u001b[1;32m      6\u001b[0m \u001b[0mshapefiles\u001b[0m\u001b[0;34m[\u001b[0m\u001b[0;34m'shapes/ZIP_CODE_N'\u001b[0m\u001b[0;34m]\u001b[0m \u001b[0;34m=\u001b[0m \u001b[0;34m'zipcodes'\u001b[0m\u001b[0;34m\u001b[0m\u001b[0m\n\u001b[0;32m----> 7\u001b[0;31m \u001b[0mm1\u001b[0m\u001b[0;34m=\u001b[0m\u001b[0mdraw_basemap\u001b[0m\u001b[0;34m(\u001b[0m\u001b[0mlat\u001b[0m\u001b[0;34m[\u001b[0m\u001b[0;36m1\u001b[0m\u001b[0;34m:\u001b[0m\u001b[0;36m100\u001b[0m\u001b[0;34m]\u001b[0m\u001b[0;34m,\u001b[0m \u001b[0mlon\u001b[0m\u001b[0;34m[\u001b[0m\u001b[0;36m1\u001b[0m\u001b[0;34m:\u001b[0m\u001b[0;36m100\u001b[0m\u001b[0;34m]\u001b[0m\u001b[0;34m,\u001b[0m \u001b[0mman_coords\u001b[0m\u001b[0;34m,\u001b[0m \u001b[0mshapefiles\u001b[0m\u001b[0;34m)\u001b[0m \u001b[0;31m# plots raw points\u001b[0m\u001b[0;34m\u001b[0m\u001b[0m\n\u001b[0m",
      "\u001b[0;32m<ipython-input-8-d2547d9fadee>\u001b[0m in \u001b[0;36mdraw_basemap\u001b[0;34m(lat, lon, coords, shapefiles)\u001b[0m\n\u001b[1;32m      1\u001b[0m \u001b[0;32mdef\u001b[0m \u001b[0mdraw_basemap\u001b[0m\u001b[0;34m(\u001b[0m\u001b[0mlat\u001b[0m\u001b[0;34m,\u001b[0m \u001b[0mlon\u001b[0m\u001b[0;34m,\u001b[0m \u001b[0mcoords\u001b[0m\u001b[0;34m,\u001b[0m \u001b[0mshapefiles\u001b[0m\u001b[0;34m=\u001b[0m\u001b[0;34m{\u001b[0m\u001b[0;34m}\u001b[0m\u001b[0;34m)\u001b[0m\u001b[0;34m:\u001b[0m\u001b[0;34m\u001b[0m\u001b[0m\n\u001b[0;32m----> 2\u001b[0;31m     \u001b[0mm\u001b[0m \u001b[0;34m=\u001b[0m \u001b[0mBasemap\u001b[0m\u001b[0;34m(\u001b[0m\u001b[0mprojection\u001b[0m\u001b[0;34m=\u001b[0m\u001b[0;34m'merc'\u001b[0m\u001b[0;34m,\u001b[0m\u001b[0mllcrnrlat\u001b[0m\u001b[0;34m=\u001b[0m\u001b[0mcoords\u001b[0m\u001b[0;34m[\u001b[0m\u001b[0;36m0\u001b[0m\u001b[0;34m]\u001b[0m\u001b[0;34m,\u001b[0m\u001b[0murcrnrlat\u001b[0m\u001b[0;34m=\u001b[0m\u001b[0mcoords\u001b[0m\u001b[0;34m[\u001b[0m\u001b[0;36m1\u001b[0m\u001b[0;34m]\u001b[0m\u001b[0;34m,\u001b[0m            \u001b[0mllcrnrlon\u001b[0m\u001b[0;34m=\u001b[0m\u001b[0mcoords\u001b[0m\u001b[0;34m[\u001b[0m\u001b[0;36m2\u001b[0m\u001b[0;34m]\u001b[0m\u001b[0;34m,\u001b[0m \u001b[0murcrnrlon\u001b[0m\u001b[0;34m=\u001b[0m\u001b[0mcoords\u001b[0m\u001b[0;34m[\u001b[0m\u001b[0;36m3\u001b[0m\u001b[0;34m]\u001b[0m\u001b[0;34m,\u001b[0m \u001b[0mresolution\u001b[0m\u001b[0;34m=\u001b[0m\u001b[0;34m'h'\u001b[0m\u001b[0;34m)\u001b[0m\u001b[0;34m\u001b[0m\u001b[0m\n\u001b[0m\u001b[1;32m      3\u001b[0m     \u001b[0mm\u001b[0m\u001b[0;34m.\u001b[0m\u001b[0mdrawcoastlines\u001b[0m\u001b[0;34m(\u001b[0m\u001b[0;34m)\u001b[0m\u001b[0;34m\u001b[0m\u001b[0m\n\u001b[1;32m      4\u001b[0m     \u001b[0mm\u001b[0m\u001b[0;34m.\u001b[0m\u001b[0mdrawstates\u001b[0m\u001b[0;34m(\u001b[0m\u001b[0;34m)\u001b[0m\u001b[0;34m\u001b[0m\u001b[0m\n\u001b[1;32m      5\u001b[0m     \u001b[0mm\u001b[0m\u001b[0;34m.\u001b[0m\u001b[0mfillcontinents\u001b[0m\u001b[0;34m(\u001b[0m\u001b[0mcolor\u001b[0m\u001b[0;34m=\u001b[0m\u001b[0;34m'coral'\u001b[0m\u001b[0;34m,\u001b[0m\u001b[0mlake_color\u001b[0m\u001b[0;34m=\u001b[0m\u001b[0;34m'aqua'\u001b[0m\u001b[0;34m)\u001b[0m\u001b[0;34m\u001b[0m\u001b[0m\n",
      "\u001b[0;31mNameError\u001b[0m: name 'Basemap' is not defined"
     ]
    }
   ],
   "source": [
    "# setup mercator basemap.\n",
    "lat = data['Lat'].tolist()\n",
    "lon = data['Lon'].tolist()\n",
    "man_coords = [40.6664, 40.8851, -74.0587, -73.8890]\n",
    "shapefiles ={}\n",
    "shapefiles['shapes/ZIP_CODE_N'] = 'zipcodes'\n",
    "m1=draw_basemap(lat[1:100], lon[1:100], man_coords, shapefiles) # plots raw points"
   ]
  },
  {
   "cell_type": "code",
   "execution_count": 11,
   "metadata": {},
   "outputs": [
    {
     "name": "stdout",
     "output_type": "stream",
     "text": [
      "[[ 40.769  -73.9549]\n",
      " [ 40.7267 -74.0345]\n",
      " [ 40.7316 -73.9873]\n",
      " ...\n",
      " [ 40.7443 -73.9889]\n",
      " [ 40.6756 -73.9405]\n",
      " [ 40.688  -73.9608]]\n"
     ]
    }
   ],
   "source": [
    "\n",
    "test_small = createDiGraphK(data, 2000, 2)"
   ]
  },
  {
   "cell_type": "code",
   "execution_count": 12,
   "metadata": {
    "collapsed": true
   },
   "outputs": [],
   "source": [
    "def get_pos(G, m):\n",
    "    pos = {}\n",
    "    #lat = {k:mean(v) for (k,v) in nx.get_node_attributes(test1, 'lat').items()}\n",
    "    #lon = {k:mean(v) for (k,v) in nx.get_node_attributes(test1, 'lon').items()}\n",
    "    lt = nx.get_node_attributes(G, 'lat')\n",
    "    ln = nx.get_node_attributes(G, 'lon')\n",
    "    for node_num in list(G.nodes()):\n",
    "        pos[node_num] = m(ln[node_num], lt[node_num]) # KEEP IN MIND THIS IS NOW X,Y\n",
    "    return pos"
   ]
  },
  {
   "cell_type": "code",
   "execution_count": 13,
   "metadata": {
    "collapsed": true
   },
   "outputs": [],
   "source": [
    "def draw_graph(G, coords=[40.58, 40.88, -74.28, -73.840], shapefiles={}, node_size=50): \n",
    "    plt.figure(figsize=(18,12))\n",
    "    m = Basemap(projection='merc',llcrnrlat=coords[0],urcrnrlat=coords[1],llcrnrlon=coords[2], urcrnrlon=coords[3], resolution='h')\n",
    "    m.drawcoastlines()\n",
    "    m.drawstates()\n",
    "    m.fillcontinents(color='lightgreen',lake_color='aqua')\n",
    "    #m = Basemap(projection='merc', width=10, height=10, lat_0=40.783058, lon_0=-73.971252)\n",
    "    pos = get_pos(G, m)\n",
    "    print(\"FINISHED PROJ. COORDINATES...STARTING NODES\")\n",
    "    nx.draw_networkx_nodes(G = G, pos = pos, node_color = 'b', alpha=0.8,node_size=node_size)\n",
    "    nx.draw_networkx_edges(G = G, pos = pos, edge_color='white', alpha=0.8, arrows = True)\n",
    "    for file, name in shapefiles.items():\n",
    "        m.readshapefile(file, name)\n",
    "    plt.show()\n",
    "    return m"
   ]
  },
  {
   "cell_type": "code",
   "execution_count": 14,
   "metadata": {
    "collapsed": true
   },
   "outputs": [],
   "source": [
    "shapefiles ={}\n",
    "shapefiles['shapes/ZIP_CODE_N'] = 'zipcodes'\n",
    "man_coords = [40.58, 40.88, -74.28, -73.840] #manhattan by default"
   ]
  },
  {
   "cell_type": "code",
   "execution_count": 15,
   "metadata": {},
   "outputs": [
    {
     "name": "stdout",
     "output_type": "stream",
     "text": [
      "[[ 40.769  -73.9549]\n",
      " [ 40.7267 -74.0345]\n",
      " [ 40.7316 -73.9873]\n",
      " ...\n",
      " [ 40.7443 -73.9889]\n",
      " [ 40.6756 -73.9405]\n",
      " [ 40.688  -73.9608]]\n"
     ]
    }
   ],
   "source": [
    "test_all = createDiGraphK(data, len(data), k=30, iters=30)"
   ]
  },
  {
   "cell_type": "code",
   "execution_count": 16,
   "metadata": {},
   "outputs": [
    {
     "ename": "NameError",
     "evalue": "name 'Basemap' is not defined",
     "output_type": "error",
     "traceback": [
      "\u001b[0;31m---------------------------------------------------------------------------\u001b[0m",
      "\u001b[0;31mNameError\u001b[0m                                 Traceback (most recent call last)",
      "\u001b[0;32m<ipython-input-16-32283e143ab7>\u001b[0m in \u001b[0;36m<module>\u001b[0;34m()\u001b[0m\n\u001b[0;32m----> 1\u001b[0;31m \u001b[0mdraw_graph\u001b[0m\u001b[0;34m(\u001b[0m\u001b[0mtest_all\u001b[0m\u001b[0;34m,\u001b[0m \u001b[0mman_coords\u001b[0m\u001b[0;34m,\u001b[0m \u001b[0mshapefiles\u001b[0m\u001b[0;34m)\u001b[0m\u001b[0;34m\u001b[0m\u001b[0m\n\u001b[0m",
      "\u001b[0;32m<ipython-input-13-51381451fdf0>\u001b[0m in \u001b[0;36mdraw_graph\u001b[0;34m(G, coords, shapefiles, node_size)\u001b[0m\n\u001b[1;32m      1\u001b[0m \u001b[0;32mdef\u001b[0m \u001b[0mdraw_graph\u001b[0m\u001b[0;34m(\u001b[0m\u001b[0mG\u001b[0m\u001b[0;34m,\u001b[0m \u001b[0mcoords\u001b[0m\u001b[0;34m=\u001b[0m\u001b[0;34m[\u001b[0m\u001b[0;36m40.58\u001b[0m\u001b[0;34m,\u001b[0m \u001b[0;36m40.88\u001b[0m\u001b[0;34m,\u001b[0m \u001b[0;34m-\u001b[0m\u001b[0;36m74.28\u001b[0m\u001b[0;34m,\u001b[0m \u001b[0;34m-\u001b[0m\u001b[0;36m73.840\u001b[0m\u001b[0;34m]\u001b[0m\u001b[0;34m,\u001b[0m \u001b[0mshapefiles\u001b[0m\u001b[0;34m=\u001b[0m\u001b[0;34m{\u001b[0m\u001b[0;34m}\u001b[0m\u001b[0;34m,\u001b[0m \u001b[0mnode_size\u001b[0m\u001b[0;34m=\u001b[0m\u001b[0;36m50\u001b[0m\u001b[0;34m)\u001b[0m\u001b[0;34m:\u001b[0m\u001b[0;34m\u001b[0m\u001b[0m\n\u001b[1;32m      2\u001b[0m     \u001b[0mplt\u001b[0m\u001b[0;34m.\u001b[0m\u001b[0mfigure\u001b[0m\u001b[0;34m(\u001b[0m\u001b[0mfigsize\u001b[0m\u001b[0;34m=\u001b[0m\u001b[0;34m(\u001b[0m\u001b[0;36m18\u001b[0m\u001b[0;34m,\u001b[0m\u001b[0;36m12\u001b[0m\u001b[0;34m)\u001b[0m\u001b[0;34m)\u001b[0m\u001b[0;34m\u001b[0m\u001b[0m\n\u001b[0;32m----> 3\u001b[0;31m     \u001b[0mm\u001b[0m \u001b[0;34m=\u001b[0m \u001b[0mBasemap\u001b[0m\u001b[0;34m(\u001b[0m\u001b[0mprojection\u001b[0m\u001b[0;34m=\u001b[0m\u001b[0;34m'merc'\u001b[0m\u001b[0;34m,\u001b[0m\u001b[0mllcrnrlat\u001b[0m\u001b[0;34m=\u001b[0m\u001b[0mcoords\u001b[0m\u001b[0;34m[\u001b[0m\u001b[0;36m0\u001b[0m\u001b[0;34m]\u001b[0m\u001b[0;34m,\u001b[0m\u001b[0murcrnrlat\u001b[0m\u001b[0;34m=\u001b[0m\u001b[0mcoords\u001b[0m\u001b[0;34m[\u001b[0m\u001b[0;36m1\u001b[0m\u001b[0;34m]\u001b[0m\u001b[0;34m,\u001b[0m\u001b[0mllcrnrlon\u001b[0m\u001b[0;34m=\u001b[0m\u001b[0mcoords\u001b[0m\u001b[0;34m[\u001b[0m\u001b[0;36m2\u001b[0m\u001b[0;34m]\u001b[0m\u001b[0;34m,\u001b[0m \u001b[0murcrnrlon\u001b[0m\u001b[0;34m=\u001b[0m\u001b[0mcoords\u001b[0m\u001b[0;34m[\u001b[0m\u001b[0;36m3\u001b[0m\u001b[0;34m]\u001b[0m\u001b[0;34m,\u001b[0m \u001b[0mresolution\u001b[0m\u001b[0;34m=\u001b[0m\u001b[0;34m'h'\u001b[0m\u001b[0;34m)\u001b[0m\u001b[0;34m\u001b[0m\u001b[0m\n\u001b[0m\u001b[1;32m      4\u001b[0m     \u001b[0mm\u001b[0m\u001b[0;34m.\u001b[0m\u001b[0mdrawcoastlines\u001b[0m\u001b[0;34m(\u001b[0m\u001b[0;34m)\u001b[0m\u001b[0;34m\u001b[0m\u001b[0m\n\u001b[1;32m      5\u001b[0m     \u001b[0mm\u001b[0m\u001b[0;34m.\u001b[0m\u001b[0mdrawstates\u001b[0m\u001b[0;34m(\u001b[0m\u001b[0;34m)\u001b[0m\u001b[0;34m\u001b[0m\u001b[0m\n",
      "\u001b[0;31mNameError\u001b[0m: name 'Basemap' is not defined"
     ]
    }
   ],
   "source": [
    "draw_graph(test_all, man_coords, shapefiles)"
   ]
  },
  {
   "cell_type": "code",
   "execution_count": 17,
   "metadata": {
    "collapsed": true
   },
   "outputs": [],
   "source": [
    "# scale graph \n",
    "node_lt = nx.get_node_attributes(test_all, 'lat').values()\n",
    "node_ln = nx.get_node_attributes(test_all, 'lon').values()\n",
    "pad = 0.01\n",
    "c2 = [min(node_lt)-pad, max(node_lt)+pad, min(node_ln)-pad, max(node_ln)+pad]"
   ]
  },
  {
   "cell_type": "code",
   "execution_count": 18,
   "metadata": {},
   "outputs": [
    {
     "ename": "NameError",
     "evalue": "name 'Basemap' is not defined",
     "output_type": "error",
     "traceback": [
      "\u001b[0;31m---------------------------------------------------------------------------\u001b[0m",
      "\u001b[0;31mNameError\u001b[0m                                 Traceback (most recent call last)",
      "\u001b[0;32m<ipython-input-18-06c4910856fe>\u001b[0m in \u001b[0;36m<module>\u001b[0;34m()\u001b[0m\n\u001b[0;32m----> 1\u001b[0;31m \u001b[0mm3\u001b[0m \u001b[0;34m=\u001b[0m \u001b[0mdraw_graph\u001b[0m\u001b[0;34m(\u001b[0m\u001b[0mtest_all\u001b[0m\u001b[0;34m,\u001b[0m \u001b[0mc2\u001b[0m\u001b[0;34m,\u001b[0m \u001b[0mshapefiles\u001b[0m\u001b[0;34m)\u001b[0m\u001b[0;34m\u001b[0m\u001b[0m\n\u001b[0m",
      "\u001b[0;32m<ipython-input-13-51381451fdf0>\u001b[0m in \u001b[0;36mdraw_graph\u001b[0;34m(G, coords, shapefiles, node_size)\u001b[0m\n\u001b[1;32m      1\u001b[0m \u001b[0;32mdef\u001b[0m \u001b[0mdraw_graph\u001b[0m\u001b[0;34m(\u001b[0m\u001b[0mG\u001b[0m\u001b[0;34m,\u001b[0m \u001b[0mcoords\u001b[0m\u001b[0;34m=\u001b[0m\u001b[0;34m[\u001b[0m\u001b[0;36m40.58\u001b[0m\u001b[0;34m,\u001b[0m \u001b[0;36m40.88\u001b[0m\u001b[0;34m,\u001b[0m \u001b[0;34m-\u001b[0m\u001b[0;36m74.28\u001b[0m\u001b[0;34m,\u001b[0m \u001b[0;34m-\u001b[0m\u001b[0;36m73.840\u001b[0m\u001b[0;34m]\u001b[0m\u001b[0;34m,\u001b[0m \u001b[0mshapefiles\u001b[0m\u001b[0;34m=\u001b[0m\u001b[0;34m{\u001b[0m\u001b[0;34m}\u001b[0m\u001b[0;34m,\u001b[0m \u001b[0mnode_size\u001b[0m\u001b[0;34m=\u001b[0m\u001b[0;36m50\u001b[0m\u001b[0;34m)\u001b[0m\u001b[0;34m:\u001b[0m\u001b[0;34m\u001b[0m\u001b[0m\n\u001b[1;32m      2\u001b[0m     \u001b[0mplt\u001b[0m\u001b[0;34m.\u001b[0m\u001b[0mfigure\u001b[0m\u001b[0;34m(\u001b[0m\u001b[0mfigsize\u001b[0m\u001b[0;34m=\u001b[0m\u001b[0;34m(\u001b[0m\u001b[0;36m18\u001b[0m\u001b[0;34m,\u001b[0m\u001b[0;36m12\u001b[0m\u001b[0;34m)\u001b[0m\u001b[0;34m)\u001b[0m\u001b[0;34m\u001b[0m\u001b[0m\n\u001b[0;32m----> 3\u001b[0;31m     \u001b[0mm\u001b[0m \u001b[0;34m=\u001b[0m \u001b[0mBasemap\u001b[0m\u001b[0;34m(\u001b[0m\u001b[0mprojection\u001b[0m\u001b[0;34m=\u001b[0m\u001b[0;34m'merc'\u001b[0m\u001b[0;34m,\u001b[0m\u001b[0mllcrnrlat\u001b[0m\u001b[0;34m=\u001b[0m\u001b[0mcoords\u001b[0m\u001b[0;34m[\u001b[0m\u001b[0;36m0\u001b[0m\u001b[0;34m]\u001b[0m\u001b[0;34m,\u001b[0m\u001b[0murcrnrlat\u001b[0m\u001b[0;34m=\u001b[0m\u001b[0mcoords\u001b[0m\u001b[0;34m[\u001b[0m\u001b[0;36m1\u001b[0m\u001b[0;34m]\u001b[0m\u001b[0;34m,\u001b[0m\u001b[0mllcrnrlon\u001b[0m\u001b[0;34m=\u001b[0m\u001b[0mcoords\u001b[0m\u001b[0;34m[\u001b[0m\u001b[0;36m2\u001b[0m\u001b[0;34m]\u001b[0m\u001b[0;34m,\u001b[0m \u001b[0murcrnrlon\u001b[0m\u001b[0;34m=\u001b[0m\u001b[0mcoords\u001b[0m\u001b[0;34m[\u001b[0m\u001b[0;36m3\u001b[0m\u001b[0;34m]\u001b[0m\u001b[0;34m,\u001b[0m \u001b[0mresolution\u001b[0m\u001b[0;34m=\u001b[0m\u001b[0;34m'h'\u001b[0m\u001b[0;34m)\u001b[0m\u001b[0;34m\u001b[0m\u001b[0m\n\u001b[0m\u001b[1;32m      4\u001b[0m     \u001b[0mm\u001b[0m\u001b[0;34m.\u001b[0m\u001b[0mdrawcoastlines\u001b[0m\u001b[0;34m(\u001b[0m\u001b[0;34m)\u001b[0m\u001b[0;34m\u001b[0m\u001b[0m\n\u001b[1;32m      5\u001b[0m     \u001b[0mm\u001b[0m\u001b[0;34m.\u001b[0m\u001b[0mdrawstates\u001b[0m\u001b[0;34m(\u001b[0m\u001b[0;34m)\u001b[0m\u001b[0;34m\u001b[0m\u001b[0m\n",
      "\u001b[0;31mNameError\u001b[0m: name 'Basemap' is not defined"
     ]
    }
   ],
   "source": [
    "m3 = draw_graph(test_all, c2, shapefiles)"
   ]
  },
  {
   "cell_type": "markdown",
   "metadata": {},
   "source": [
    "yay we got it visualized! now let's try to make the graph more meaningful by incorporating some of measures of centrality"
   ]
  },
  {
   "cell_type": "code",
   "execution_count": 19,
   "metadata": {
    "collapsed": true
   },
   "outputs": [],
   "source": [
    "def get_stats(G):\n",
    "    stats = {};  \n",
    "    stats['out_degrees'] = G.out_degree(weight='weight'); \n",
    "    stats['closeness_centrality'] = nx.closeness_centrality(G); # hard to do the rest of these because of uniform dist. \n",
    "    stats['betweenness_centrality'] = nx.betweenness_centrality(G); \n",
    "    stats['eigenvalue_centrality'] = nx.eigenvector_centrality(G); \n",
    "    stats['pagerank'] = nx.pagerank(G); \n",
    "    return stats"
   ]
  },
  {
   "cell_type": "code",
   "execution_count": 20,
   "metadata": {},
   "outputs": [
    {
     "data": {
      "text/plain": [
       "OutDegreeView({1: 36343, 5: 4074, 19: 4694, 28: 52368, 29: 42208, 6: 210, 15: 54488, 16: 19107, 20: 32418, 17: 13917, 3: 38815, 18: 47434, 4: 7649, 2: 2671, 21: 12691, 10: 4962, 11: 3249, 25: 577, 12: 7657, 22: 18758, 23: 150, 24: 45361, 13: 526, 8: 49617, 0: 390, 27: 29830, 14: 16271, 9: 3849, 26: 13334, 7: 898})"
      ]
     },
     "execution_count": 20,
     "metadata": {},
     "output_type": "execute_result"
    }
   ],
   "source": [
    "test_all.out_degree(weight='weight')"
   ]
  },
  {
   "cell_type": "code",
   "execution_count": 21,
   "metadata": {},
   "outputs": [
    {
     "ename": "NameError",
     "evalue": "name 'out_weights' is not defined",
     "output_type": "error",
     "traceback": [
      "\u001b[0;31m---------------------------------------------------------------------------\u001b[0m",
      "\u001b[0;31mNameError\u001b[0m                                 Traceback (most recent call last)",
      "\u001b[0;32m<ipython-input-21-661c28e2928e>\u001b[0m in \u001b[0;36m<module>\u001b[0;34m()\u001b[0m\n\u001b[1;32m      3\u001b[0m \u001b[0msizes\u001b[0m \u001b[0;34m=\u001b[0m \u001b[0;34m[\u001b[0m\u001b[0;34m]\u001b[0m\u001b[0;34m\u001b[0m\u001b[0m\n\u001b[1;32m      4\u001b[0m \u001b[0;32mfor\u001b[0m \u001b[0mnode\u001b[0m \u001b[0;32min\u001b[0m \u001b[0mlist\u001b[0m\u001b[0;34m(\u001b[0m\u001b[0mtest_all\u001b[0m\u001b[0;34m.\u001b[0m\u001b[0mnodes\u001b[0m\u001b[0;34m(\u001b[0m\u001b[0;34m)\u001b[0m\u001b[0;34m)\u001b[0m\u001b[0;34m:\u001b[0m\u001b[0;34m\u001b[0m\u001b[0m\n\u001b[0;32m----> 5\u001b[0;31m     \u001b[0msizes\u001b[0m\u001b[0;34m.\u001b[0m\u001b[0mappend\u001b[0m\u001b[0;34m(\u001b[0m\u001b[0mog_size\u001b[0m\u001b[0;34m*\u001b[0m\u001b[0;36m0.5\u001b[0m\u001b[0;34m*\u001b[0m\u001b[0;34m(\u001b[0m\u001b[0mout_weights\u001b[0m\u001b[0;34m[\u001b[0m\u001b[0mnode\u001b[0m\u001b[0;34m]\u001b[0m\u001b[0;34m)\u001b[0m\u001b[0;34m/\u001b[0m\u001b[0;36m2.0\u001b[0m\u001b[0;34m)\u001b[0m\u001b[0;34m\u001b[0m\u001b[0m\n\u001b[0m\u001b[1;32m      6\u001b[0m \u001b[0mdraw_graph\u001b[0m\u001b[0;34m(\u001b[0m\u001b[0mtest_all\u001b[0m\u001b[0;34m,\u001b[0m \u001b[0mc2\u001b[0m\u001b[0;34m,\u001b[0m \u001b[0mshapefiles\u001b[0m\u001b[0;34m,\u001b[0m \u001b[0mnode_size\u001b[0m\u001b[0;34m=\u001b[0m\u001b[0msizes\u001b[0m\u001b[0;34m)\u001b[0m\u001b[0;34m\u001b[0m\u001b[0m\n",
      "\u001b[0;31mNameError\u001b[0m: name 'out_weights' is not defined"
     ]
    }
   ],
   "source": [
    "# adjust sizing of nodes based on their relative out-degrees\n",
    "og_size =  400\n",
    "sizes = []\n",
    "for node in list(test_all.nodes()):\n",
    "    sizes.append(og_size*0.5*(out_weights[node])/2.0)\n",
    "draw_graph(test_all, c2, shapefiles, node_size=sizes)"
   ]
  },
  {
   "cell_type": "code",
   "execution_count": 22,
   "metadata": {
    "collapsed": true
   },
   "outputs": [],
   "source": [
    "def get_weighted_nodes(G, og_size):\n",
    "    # get weights into the range [0.5-1]\n",
    "    out_raw = dict(G.out_degree(weight='weight'))\n",
    "    min_out = min(out_raw.values())\n",
    "    max_out = max(out_raw.values())\n",
    "    out_weights = {k:(v-min_out)/(max_out-min_out) for (k,v) in out_raw.items()}\n",
    "    \n",
    "    # adjust sizing of nodes based on their relative out-degrees\n",
    "    sizes = []\n",
    "    for node in list(G.nodes()):\n",
    "        sizes.append(og_size*0.5*(out_weights[node]) + 0.5*og_size)\n",
    "    return sizes"
   ]
  },
  {
   "cell_type": "markdown",
   "metadata": {},
   "source": [
    "Hmmm so there's BARELY any usage of the outer nodes. let's try to remove some outliers...and add a function to scale the map if necessary"
   ]
  },
  {
   "cell_type": "code",
   "execution_count": 23,
   "metadata": {
    "collapsed": true
   },
   "outputs": [],
   "source": [
    "# remove outliers \n",
    "def removeOutliers(x, outlierConstant):\n",
    "    a = np.array(x)\n",
    "    upper_quartile = np.percentile(a, 75)\n",
    "    lower_quartile = np.percentile(a, 25)\n",
    "    IQR = (upper_quartile - lower_quartile) * outlierConstant\n",
    "    quartileSet = (lower_quartile - IQR, upper_quartile + IQR)\n",
    "    resultList = []\n",
    "    for y in a.tolist():\n",
    "        if y >= quartileSet[0] and y <= quartileSet[1]:\n",
    "            resultList.append(y)\n",
    "    return resultList"
   ]
  },
  {
   "cell_type": "code",
   "execution_count": 24,
   "metadata": {
    "collapsed": true
   },
   "outputs": [],
   "source": [
    "# return indices of valid points-- SHOULD USE THIS INSTEAD WHEN CONSIDERING TWO RELATED SETS OF POINTS!!!\n",
    "def getOutliers(x, y, outlierConstant):\n",
    "    a = np.array(x)\n",
    "    b = np.array(y)\n",
    "    upper_quartile_a = np.percentile(a, 75)\n",
    "    lower_quartile_a = np.percentile(a, 25)\n",
    "    upper_quartile_b = np.percentile(b, 75)\n",
    "    lower_quartile_b = np.percentile(b, 25)\n",
    "    IQR_a = (upper_quartile_a - lower_quartile_a) * outlierConstant\n",
    "    IQR_b = (upper_quartile_b - lower_quartile_b) * outlierConstant\n",
    "    quartileSet_a = (lower_quartile_a - IQR_a, upper_quartile_a + IQR_a)\n",
    "    quartileSet_b = (lower_quartile_b - IQR_b, upper_quartile_b + IQR_b)\n",
    "    valid = []\n",
    "    for i,v in enumerate(a.tolist()):\n",
    "        if (v >= quartileSet_a[0] and v <= quartileSet_a[1] and b[i] >= quartileSet_b[0] and b[i] <= quartileSet_b[1]):\n",
    "            valid.append(i)\n",
    "    return valid"
   ]
  },
  {
   "cell_type": "code",
   "execution_count": 25,
   "metadata": {
    "collapsed": true
   },
   "outputs": [],
   "source": [
    "def createDiGraphK_clean(data, sample_size, k=40, iters=20, name='ktemp'):\n",
    "    # cluster data using k-means\n",
    "    valid_idx = np.array(getOutliers(data['Lat'], data['Lon'], 1))\n",
    "    lat = np.array(data['Lat'])[valid_idx]\n",
    "    lon = np.array(data['Lon'])[valid_idx]\n",
    "    coordinates= np.array(list(zip(lat, lon)))\n",
    "    centroids, labels = kmeans2(whiten(coordinates), k, iter = iters) \n",
    "    num_points = len(lat)\n",
    "    # create graph with k nodes\n",
    "    G = nx.DiGraph(); \n",
    "    for pick_up in range(0,min(sample_size, num_points)):\n",
    "        \n",
    "        # get k-means centroid from src and randomize dest based on uniform distribution among all clusters\n",
    "        rand_idx = random.randint(0, num_points - 1)\n",
    "        la = lat[rand_idx]\n",
    "        lo = lon[rand_idx]\n",
    "        src = labels[rand_idx]\n",
    "        dest = random.randint(0, k - 1)\n",
    "        if (dest == src and src != 0):\n",
    "            dest = 0\n",
    "\n",
    "        # increase edge weight from src -->  dest by 1 \n",
    "        if not G.has_node(src):\n",
    "            G.add_node(src, lat=0, lon=0)\n",
    "        if not G.has_node(dest):\n",
    "            G.add_node(dest, lat=0, lon=0)\n",
    "        if not G.has_edge(src, dest):\n",
    "            G.add_edge(src, dest, weight=0)\n",
    "        G[src][dest]['weight'] += 1\n",
    "        \n",
    "        G.node[src]['lat'] = (G.node[src]['lat'] +  la) / 2 #keep a running average\n",
    "        G.node[src]['lon'] =  (G.node[src]['lon'] +  lo) / 2\n",
    "        \n",
    "        #print(\"Adding edge from \" + str(src) + \" to \" + str(dest))\n",
    "        if (pick_up > 1000 and pick_up % 1000 == 0):\n",
    "            nx.write_graphml(G, \"graphs/\" + name + \".graphml\")\n",
    "    return G "
   ]
  },
  {
   "cell_type": "code",
   "execution_count": 26,
   "metadata": {
    "collapsed": true
   },
   "outputs": [],
   "source": [
    "def get_coords(G, pad=0.01):\n",
    "    # scale graph \n",
    "    node_lt = nx.get_node_attributes(G, 'lat').values()\n",
    "    node_ln = nx.get_node_attributes(G, 'lon').values()\n",
    "    node_lt = list(filter(lambda x: x != 0, node_lt)) # FILTER OUT ZEROS BC OF A BUG Idk\n",
    "    node_ln = list(filter(lambda x: x != 0, node_ln))\n",
    "    c2 = [min(node_lt)-pad, max(node_lt)+pad, min(node_ln)-pad, max(node_ln)+pad]\n",
    "    print(c2)\n",
    "    return c2"
   ]
  },
  {
   "cell_type": "code",
   "execution_count": 27,
   "metadata": {
    "collapsed": true
   },
   "outputs": [],
   "source": [
    "def draw_graph_clean(G, coords=None, shapefiles={}, node_size=600): \n",
    "    plt.figure(figsize=(18,12))\n",
    "    if coords is None:\n",
    "        coords = get_coords(G)\n",
    "    m = Basemap(projection='merc',llcrnrlat=coords[0],urcrnrlat=coords[1],llcrnrlon=coords[2], urcrnrlon=coords[3], resolution='h')\n",
    "    m.drawcoastlines()\n",
    "    m.drawstates()\n",
    "    m.fillcontinents(color='blanchedalmond',lake_color='aqua')\n",
    "    #m = Basemap(projection='merc', width=10, height=10, lat_0=40.783058, lon_0=-73.971252)\n",
    "    pos = get_pos(G, m)\n",
    "    print(\"FINISHED PROJ. COORDINATES...STARTING NODES\")\n",
    "    nx.draw_networkx_nodes(G = G, pos = pos, node_color = 'b', alpha=0.8,node_size=get_weighted_nodes(G, node_size))\n",
    "    #nx.draw_networkx_edges(G = G, pos = pos, edge_color='white', alpha=0.8, arrows = True)\n",
    "    for file, name in shapefiles.items():\n",
    "        m.readshapefile(file, name)\n",
    "    plt.show()\n",
    "    return m"
   ]
  },
  {
   "cell_type": "code",
   "execution_count": 28,
   "metadata": {
    "collapsed": true
   },
   "outputs": [],
   "source": [
    "g2 = createDiGraphK_clean(data, len(data), k=40, iters=40, name='k_all_uber')"
   ]
  },
  {
   "cell_type": "code",
   "execution_count": 29,
   "metadata": {},
   "outputs": [
    {
     "name": "stdout",
     "output_type": "stream",
     "text": [
      "[40.67729322968127, 40.79641059221718, -74.02463782912896, -73.93958219731182]\n"
     ]
    },
    {
     "ename": "NameError",
     "evalue": "name 'Basemap' is not defined",
     "output_type": "error",
     "traceback": [
      "\u001b[0;31m---------------------------------------------------------------------------\u001b[0m",
      "\u001b[0;31mNameError\u001b[0m                                 Traceback (most recent call last)",
      "\u001b[0;32m<ipython-input-29-72f22bdfc5a9>\u001b[0m in \u001b[0;36m<module>\u001b[0;34m()\u001b[0m\n\u001b[0;32m----> 1\u001b[0;31m \u001b[0mm2\u001b[0m \u001b[0;34m=\u001b[0m \u001b[0mdraw_graph_clean\u001b[0m\u001b[0;34m(\u001b[0m\u001b[0mg2\u001b[0m\u001b[0;34m,\u001b[0m \u001b[0mshapefiles\u001b[0m\u001b[0;34m=\u001b[0m\u001b[0mshapefiles\u001b[0m\u001b[0;34m)\u001b[0m\u001b[0;34m\u001b[0m\u001b[0m\n\u001b[0m",
      "\u001b[0;32m<ipython-input-27-6cee7a9e45ea>\u001b[0m in \u001b[0;36mdraw_graph_clean\u001b[0;34m(G, coords, shapefiles, node_size)\u001b[0m\n\u001b[1;32m      3\u001b[0m     \u001b[0;32mif\u001b[0m \u001b[0mcoords\u001b[0m \u001b[0;32mis\u001b[0m \u001b[0;32mNone\u001b[0m\u001b[0;34m:\u001b[0m\u001b[0;34m\u001b[0m\u001b[0m\n\u001b[1;32m      4\u001b[0m         \u001b[0mcoords\u001b[0m \u001b[0;34m=\u001b[0m \u001b[0mget_coords\u001b[0m\u001b[0;34m(\u001b[0m\u001b[0mG\u001b[0m\u001b[0;34m)\u001b[0m\u001b[0;34m\u001b[0m\u001b[0m\n\u001b[0;32m----> 5\u001b[0;31m     \u001b[0mm\u001b[0m \u001b[0;34m=\u001b[0m \u001b[0mBasemap\u001b[0m\u001b[0;34m(\u001b[0m\u001b[0mprojection\u001b[0m\u001b[0;34m=\u001b[0m\u001b[0;34m'merc'\u001b[0m\u001b[0;34m,\u001b[0m\u001b[0mllcrnrlat\u001b[0m\u001b[0;34m=\u001b[0m\u001b[0mcoords\u001b[0m\u001b[0;34m[\u001b[0m\u001b[0;36m0\u001b[0m\u001b[0;34m]\u001b[0m\u001b[0;34m,\u001b[0m\u001b[0murcrnrlat\u001b[0m\u001b[0;34m=\u001b[0m\u001b[0mcoords\u001b[0m\u001b[0;34m[\u001b[0m\u001b[0;36m1\u001b[0m\u001b[0;34m]\u001b[0m\u001b[0;34m,\u001b[0m\u001b[0mllcrnrlon\u001b[0m\u001b[0;34m=\u001b[0m\u001b[0mcoords\u001b[0m\u001b[0;34m[\u001b[0m\u001b[0;36m2\u001b[0m\u001b[0;34m]\u001b[0m\u001b[0;34m,\u001b[0m \u001b[0murcrnrlon\u001b[0m\u001b[0;34m=\u001b[0m\u001b[0mcoords\u001b[0m\u001b[0;34m[\u001b[0m\u001b[0;36m3\u001b[0m\u001b[0;34m]\u001b[0m\u001b[0;34m,\u001b[0m \u001b[0mresolution\u001b[0m\u001b[0;34m=\u001b[0m\u001b[0;34m'h'\u001b[0m\u001b[0;34m)\u001b[0m\u001b[0;34m\u001b[0m\u001b[0m\n\u001b[0m\u001b[1;32m      6\u001b[0m     \u001b[0mm\u001b[0m\u001b[0;34m.\u001b[0m\u001b[0mdrawcoastlines\u001b[0m\u001b[0;34m(\u001b[0m\u001b[0;34m)\u001b[0m\u001b[0;34m\u001b[0m\u001b[0m\n\u001b[1;32m      7\u001b[0m     \u001b[0mm\u001b[0m\u001b[0;34m.\u001b[0m\u001b[0mdrawstates\u001b[0m\u001b[0;34m(\u001b[0m\u001b[0;34m)\u001b[0m\u001b[0;34m\u001b[0m\u001b[0m\n",
      "\u001b[0;31mNameError\u001b[0m: name 'Basemap' is not defined"
     ]
    }
   ],
   "source": [
    "m2 = draw_graph_clean(g2, shapefiles=shapefiles)"
   ]
  },
  {
   "cell_type": "markdown",
   "metadata": {},
   "source": [
    "ok lit. but what do these places actually mean? I wish we had more k-clusters...we could try finding the optimal k value that would minimize the \"sum of squared distances\"...but is that what we actually want? "
   ]
  },
  {
   "cell_type": "code",
   "execution_count": null,
   "metadata": {
    "collapsed": true
   },
   "outputs": [],
   "source": [
    "m2 = draw_graph_clean(g2, shapefiles=shapefiles)"
   ]
  },
  {
   "cell_type": "code",
   "execution_count": null,
   "metadata": {
    "collapsed": true
   },
   "outputs": [],
   "source": [
    "# determine the optimal k-value \n",
    "def plot_k(data):\n",
    "    K = range(20, 100, 5)\n",
    "    inertia = []\n",
    "    km = KMeans()\n",
    "    for k in K:\n",
    "        coordinates= np.array(list(zip(data['Lat'][1:10000], data['Lon'][1:10000])))\n",
    "        km = KMeans(n_clusters=k)\n",
    "        k_model = km.fit(coordinates)\n",
    "        inertia.append(k_model.inertia_)\n",
    "        \n",
    "    plt.figure(figsize=(12,8))\n",
    "    plt.plot(K, inertia, 'b.')\n",
    "    plt.title(\"Inertia vs k\")\n",
    "    plt.xlabel(\"K\")\n",
    "    plt.ylabel(\"Inertia\")\n",
    "    plt.show()\n",
    "    return inertia\n",
    "    "
   ]
  },
  {
   "cell_type": "code",
   "execution_count": null,
   "metadata": {
    "collapsed": true
   },
   "outputs": [],
   "source": [
    "i = plot_k(data)"
   ]
  },
  {
   "cell_type": "markdown",
   "metadata": {},
   "source": [
    "heyyyy so the \"elbow\" would be around 40-50, which is what we've been trying. nice"
   ]
  },
  {
   "cell_type": "markdown",
   "metadata": {},
   "source": [
    "okay so trying to increase kvalues gives us more nodes to consider...but do we need that? idk, since there's no geographical relevance here so far. Also the edge weights rn are kinda visually meaningless so let's try to fix that -> maybe we can model CONGESTION by considering the amount of trips between each node"
   ]
  },
  {
   "cell_type": "markdown",
   "metadata": {},
   "source": [
    "ok well we are actually still unsure of the relationship between the out/in-degree distributions, so the edges right now are not as relevant. maybe let's focus on analyzing solely the pickup locations for this dataset"
   ]
  },
  {
   "cell_type": "code",
   "execution_count": null,
   "metadata": {
    "collapsed": true
   },
   "outputs": [],
   "source": [
    "# get  some colors\n",
    "def draw_graph_clean_colors(G, coords=None, shapefiles={}, node_size=600): \n",
    "    plt.figure(figsize=(18,12))\n",
    "    if coords is None:\n",
    "        coords = get_coords(G)\n",
    "    m = Basemap(projection='merc',llcrnrlat=coords[0],urcrnrlat=coords[1],llcrnrlon=coords[2], urcrnrlon=coords[3], resolution='h')\n",
    "    m.drawcoastlines()\n",
    "    m.drawstates()\n",
    "    m.fillcontinents(color='blanchedalmond',lake_color='aqua')\n",
    "    #m = Basemap(projection='merc', width=10, height=10, lat_0=40.783058, lon_0=-73.971252)\n",
    "    pos = get_pos(G, m)\n",
    "    \n",
    "    # create networkx graph \n",
    "    print(\"FINISHED PROJ. COORDINATES...STARTING NODES\")\n",
    "    cmap = plt.cm.Blues\n",
    "    nx.draw_networkx_nodes(G = G, pos = pos, node_color = get_weighted_nodes(G, 1.0), alpha=0.8,\n",
    "                           node_size=get_weighted_nodes(G, node_size), cmap=cmap)\n",
    "    #nx.draw_networkx_edges(G = G, pos = pos, edge_color='white', alpha=0.8, arrows = True)\n",
    "    for file, name in shapefiles.items():\n",
    "        m.readshapefile(file, name)\n",
    "        \n",
    "    # set colorbar\n",
    "    sm = plt.cm.ScalarMappable(cmap=cmap, norm=plt.Normalize(vmin=0, vmax=1))\n",
    "    sm.set_array([])\n",
    "    cbar = plt.colorbar(sm)\n",
    "    \n",
    "    plt.show()\n",
    "    return m"
   ]
  },
  {
   "cell_type": "code",
   "execution_count": null,
   "metadata": {
    "collapsed": true
   },
   "outputs": [],
   "source": [
    "kgraph = nx.read_graphml('graphs/k_all_uber.graphml')\n",
    "g4 = draw_graph_clean_colors(kgraph, shapefiles=shapefiles)"
   ]
  },
  {
   "cell_type": "markdown",
   "metadata": {},
   "source": [
    "## now time for taxi dataset! "
   ]
  },
  {
   "cell_type": "code",
   "execution_count": null,
   "metadata": {
    "collapsed": true
   },
   "outputs": [],
   "source": []
  }
 ],
 "metadata": {
  "kernelspec": {
   "display_name": "Python 3",
   "language": "python",
   "name": "python3"
  },
  "language_info": {
   "codemirror_mode": {
    "name": "ipython",
    "version": 3
   },
   "file_extension": ".py",
   "mimetype": "text/x-python",
   "name": "python",
   "nbconvert_exporter": "python",
   "pygments_lexer": "ipython3",
   "version": "3.6.6"
  }
 },
 "nbformat": 4,
 "nbformat_minor": 2
}
